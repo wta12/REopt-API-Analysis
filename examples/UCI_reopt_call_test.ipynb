{
 "cells": [
  {
   "cell_type": "markdown",
   "id": "blocked-ozone",
   "metadata": {},
   "source": [
    "# Single Scenario"
   ]
  },
  {
   "cell_type": "code",
   "execution_count": 7,
   "id": "understood-equality",
   "metadata": {
    "ExecuteTime": {
     "end_time": "2021-10-01T20:21:28.693197Z",
     "start_time": "2021-10-01T20:21:28.691097Z"
    }
   },
   "outputs": [],
   "source": [
    "import json  # needed to load in our scenario\n",
    "import os  # to handle file paths across operating systems\n",
    "from src.post_and_poll import get_api_results\n",
    "API_KEY = ''  # REPLACE WITH YOUR API KEY"
   ]
  },
  {
   "cell_type": "code",
   "execution_count": 2,
   "id": "robust-appreciation",
   "metadata": {
    "ExecuteTime": {
     "end_time": "2021-10-01T20:19:14.070246Z",
     "start_time": "2021-10-01T20:19:14.068094Z"
    }
   },
   "outputs": [],
   "source": [
    "# following is not necessary but silences warnings:\n",
    "# InsecureRequestWarning: Unverified HTTPS request is being made to host 'developer.nrel.gov'. Adding certificate verification is strongly advised.\n",
    "import urllib3\n",
    "urllib3.disable_warnings()"
   ]
  },
  {
   "cell_type": "markdown",
   "id": "scenic-lesbian",
   "metadata": {},
   "source": [
    "`get_api_results` POST's your JSON to the API `job` endpoint, which provides a `run_uuid` if the input is valid, and then polls the `results` endpoint using the `run_uuid` until the results come back with a status other than `Optimizing...`.\n",
    "\n",
    "`get_api_results` also saves the results to the `results_file`.\n",
    "\n",
    "A log file is also created in the current working directory."
   ]
  },
  {
   "cell_type": "code",
   "execution_count": 6,
   "id": "behavioral-engine",
   "metadata": {
    "ExecuteTime": {
     "end_time": "2021-10-01T20:21:10.254315Z",
     "start_time": "2021-10-01T20:21:10.251861Z"
    }
   },
   "outputs": [],
   "source": [
    "from IPython.core.interactiveshell import InteractiveShell\n",
    "InteractiveShell.ast_node_interactivity = \"last_expr\"\n",
    "import numpy as np\n",
    "# source_path = '/Users/kcu/Desktop/Scripting/NREL_Work/UCI/Github/UrbanOpt_NREL_UCI/Docker_test/run_result/customized_reports/scenario_reports/UES_Baseline_FIN/residiential_assumption_tou_D_4_9pm/reopt/scenario_report_PostDefault_UES_BASELINE_residiential_assumption_tou_D_4_9pm_reopt_run.json'\n",
    "\n",
    "source_path  = os.path.join(\"inputs\", \"scenario_report_PostDefault_UES_BASELINE_residiential_assumption_tou_D_4_9pm_reopt_run.json\")\n",
    "\n",
    "\n"
   ]
  },
  {
   "cell_type": "code",
   "execution_count": 4,
   "id": "dc00ab67",
   "metadata": {
    "ExecuteTime": {
     "end_time": "2021-10-01T20:20:37.559410Z",
     "start_time": "2021-10-01T20:20:37.556028Z"
    }
   },
   "outputs": [
    {
     "data": {
      "text/plain": [
       "(5099031.446269999, 5082581.804126, 0.3236473661997046, 16449.642143999226)"
      ]
     },
     "execution_count": 4,
     "metadata": {},
     "output_type": "execute_result"
    }
   ],
   "source": [
    "fin_post = json.load(\n",
    "    open(\n",
    "    source_path    , \n",
    "    \"r\")\n",
    ")['inputs']\n",
    "fin_results = get_api_results(\n",
    "    post=fin_post,\n",
    "    API_KEY=API_KEY,\n",
    "    api_url=\"https://developer.nrel.gov/api/reopt/v1\",\n",
    "    results_file=os.path.join(\"outputs\", \"test_reopt_fin.json\")\n",
    ")\n",
    "res_post = json.load(\n",
    "    open(\n",
    "    source_path    , \n",
    "    \"r\")\n",
    ")['inputs']\n",
    " \n",
    "res_post['Scenario']['Site']['LoadProfile'][\"outage_start_hour\"] = 4550\n",
    "res_post['Scenario']['Site']['LoadProfile'][\"outage_end_hour\"] =  4600\n",
    "res_post['Scenario']['Site']['LoadProfile'][\"outage_start_time_step\"] = 4551\n",
    "res_post['Scenario']['Site']['LoadProfile'][\"outage_end_time_step\"] = 4601\n",
    "res_results = get_api_results(\n",
    "    post=res_post,\n",
    "    API_KEY=API_KEY,\n",
    "    api_url=\"https://developer.nrel.gov/api/reopt/v1\",\n",
    "    results_file=os.path.join(\"outputs\", \"test_reopt_res.json\")\n",
    ")\n",
    "fin_sum = np.sum(fin_results['inputs']['Scenario']['Site']['LoadProfile']['loads_kw'])\n",
    "res_sum = np.sum(res_results['inputs']['Scenario']['Site']['LoadProfile']['loads_kw'])\n",
    "(fin_sum,res_sum,(fin_sum-res_sum)/res_sum*100,fin_sum-res_sum)"
   ]
  }
 ],
 "metadata": {
  "kernelspec": {
   "display_name": "Python 3",
   "language": "python",
   "name": "python3"
  },
  "language_info": {
   "codemirror_mode": {
    "name": "ipython",
    "version": 3
   },
   "file_extension": ".py",
   "mimetype": "text/x-python",
   "name": "python",
   "nbconvert_exporter": "python",
   "pygments_lexer": "ipython3",
   "version": "3.7.3"
  }
 },
 "nbformat": 4,
 "nbformat_minor": 5
}
